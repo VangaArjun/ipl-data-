{
 "cells": [
  {
   "cell_type": "markdown",
   "id": "991abf9f-f543-4c0c-8d8e-4214fd789f00",
   "metadata": {},
   "source": [
    "Read the ‘IPL2024_Data.csv’ file content as pandas data frame. Verify \n",
    "whether the data frame contains a valid data with no null values. Also, \n",
    "find out number of rows and columns, as well as the data types of each \n",
    "column.   \n"
   ]
  },
  {
   "cell_type": "code",
   "execution_count": 5,
   "id": "49710150-0e45-43c4-87d2-25b3752402da",
   "metadata": {},
   "outputs": [],
   "source": [
    "import pandas as pd\n",
    "import numpy as np"
   ]
  },
  {
   "cell_type": "code",
   "execution_count": 7,
   "id": "3b4c0366-8a07-49fa-8068-8dcfb7fe2284",
   "metadata": {},
   "outputs": [
    {
     "data": {
      "text/html": [
       "<div>\n",
       "<style scoped>\n",
       "    .dataframe tbody tr th:only-of-type {\n",
       "        vertical-align: middle;\n",
       "    }\n",
       "\n",
       "    .dataframe tbody tr th {\n",
       "        vertical-align: top;\n",
       "    }\n",
       "\n",
       "    .dataframe thead th {\n",
       "        text-align: right;\n",
       "    }\n",
       "</style>\n",
       "<table border=\"1\" class=\"dataframe\">\n",
       "  <thead>\n",
       "    <tr style=\"text-align: right;\">\n",
       "      <th></th>\n",
       "      <th>Year</th>\n",
       "      <th>Player_Name</th>\n",
       "      <th>Matches_Batted</th>\n",
       "      <th>Not_Outs</th>\n",
       "      <th>Runs_Scored</th>\n",
       "      <th>Highest_Score</th>\n",
       "      <th>Batting_Average</th>\n",
       "      <th>Balls_Faced</th>\n",
       "      <th>Batting_Strike_Rate</th>\n",
       "      <th>Centuries</th>\n",
       "      <th>...</th>\n",
       "      <th>Matches_Bowled</th>\n",
       "      <th>Balls_Bowled</th>\n",
       "      <th>Runs_Conceded</th>\n",
       "      <th>Wickets_Taken</th>\n",
       "      <th>Best_Bowling_Match</th>\n",
       "      <th>Bowling_Average</th>\n",
       "      <th>Economy_Rate</th>\n",
       "      <th>Bowling_Strike_Rate</th>\n",
       "      <th>Four_Wicket_Hauls</th>\n",
       "      <th>Five_Wicket_Hauls</th>\n",
       "    </tr>\n",
       "  </thead>\n",
       "  <tbody>\n",
       "    <tr>\n",
       "      <th>0</th>\n",
       "      <td>2024</td>\n",
       "      <td>Ruturaj Gaikwad</td>\n",
       "      <td>2</td>\n",
       "      <td>0</td>\n",
       "      <td>61</td>\n",
       "      <td>46</td>\n",
       "      <td>30.50</td>\n",
       "      <td>51</td>\n",
       "      <td>119.61</td>\n",
       "      <td>0</td>\n",
       "      <td>...</td>\n",
       "      <td>2</td>\n",
       "      <td>0</td>\n",
       "      <td>0</td>\n",
       "      <td>0</td>\n",
       "      <td>0</td>\n",
       "      <td>0.00</td>\n",
       "      <td>0.00</td>\n",
       "      <td>0.0</td>\n",
       "      <td>0</td>\n",
       "      <td>0</td>\n",
       "    </tr>\n",
       "    <tr>\n",
       "      <th>1</th>\n",
       "      <td>2023</td>\n",
       "      <td>Ruturaj Gaikwad</td>\n",
       "      <td>16</td>\n",
       "      <td>1</td>\n",
       "      <td>590</td>\n",
       "      <td>92</td>\n",
       "      <td>42.14</td>\n",
       "      <td>400</td>\n",
       "      <td>147.50</td>\n",
       "      <td>0</td>\n",
       "      <td>...</td>\n",
       "      <td>16</td>\n",
       "      <td>0</td>\n",
       "      <td>0</td>\n",
       "      <td>0</td>\n",
       "      <td>0</td>\n",
       "      <td>0.00</td>\n",
       "      <td>0.00</td>\n",
       "      <td>0.0</td>\n",
       "      <td>0</td>\n",
       "      <td>0</td>\n",
       "    </tr>\n",
       "    <tr>\n",
       "      <th>2</th>\n",
       "      <td>2022</td>\n",
       "      <td>Ruturaj Gaikwad</td>\n",
       "      <td>14</td>\n",
       "      <td>0</td>\n",
       "      <td>368</td>\n",
       "      <td>99</td>\n",
       "      <td>26.29</td>\n",
       "      <td>291</td>\n",
       "      <td>126.46</td>\n",
       "      <td>0</td>\n",
       "      <td>...</td>\n",
       "      <td>14</td>\n",
       "      <td>0</td>\n",
       "      <td>0</td>\n",
       "      <td>0</td>\n",
       "      <td>0</td>\n",
       "      <td>0.00</td>\n",
       "      <td>0.00</td>\n",
       "      <td>0.0</td>\n",
       "      <td>0</td>\n",
       "      <td>0</td>\n",
       "    </tr>\n",
       "    <tr>\n",
       "      <th>3</th>\n",
       "      <td>2021</td>\n",
       "      <td>Ruturaj Gaikwad</td>\n",
       "      <td>16</td>\n",
       "      <td>2</td>\n",
       "      <td>635</td>\n",
       "      <td>101*</td>\n",
       "      <td>45.35</td>\n",
       "      <td>466</td>\n",
       "      <td>136.26</td>\n",
       "      <td>1</td>\n",
       "      <td>...</td>\n",
       "      <td>16</td>\n",
       "      <td>0</td>\n",
       "      <td>0</td>\n",
       "      <td>0</td>\n",
       "      <td>0</td>\n",
       "      <td>0.00</td>\n",
       "      <td>0.00</td>\n",
       "      <td>0.0</td>\n",
       "      <td>0</td>\n",
       "      <td>0</td>\n",
       "    </tr>\n",
       "    <tr>\n",
       "      <th>4</th>\n",
       "      <td>2020</td>\n",
       "      <td>Ruturaj Gaikwad</td>\n",
       "      <td>6</td>\n",
       "      <td>2</td>\n",
       "      <td>204</td>\n",
       "      <td>72</td>\n",
       "      <td>51.00</td>\n",
       "      <td>169</td>\n",
       "      <td>120.71</td>\n",
       "      <td>0</td>\n",
       "      <td>...</td>\n",
       "      <td>6</td>\n",
       "      <td>0</td>\n",
       "      <td>0</td>\n",
       "      <td>0</td>\n",
       "      <td>0</td>\n",
       "      <td>0.00</td>\n",
       "      <td>0.00</td>\n",
       "      <td>0.0</td>\n",
       "      <td>0</td>\n",
       "      <td>0</td>\n",
       "    </tr>\n",
       "    <tr>\n",
       "      <th>...</th>\n",
       "      <td>...</td>\n",
       "      <td>...</td>\n",
       "      <td>...</td>\n",
       "      <td>...</td>\n",
       "      <td>...</td>\n",
       "      <td>...</td>\n",
       "      <td>...</td>\n",
       "      <td>...</td>\n",
       "      <td>...</td>\n",
       "      <td>...</td>\n",
       "      <td>...</td>\n",
       "      <td>...</td>\n",
       "      <td>...</td>\n",
       "      <td>...</td>\n",
       "      <td>...</td>\n",
       "      <td>...</td>\n",
       "      <td>...</td>\n",
       "      <td>...</td>\n",
       "      <td>...</td>\n",
       "      <td>...</td>\n",
       "      <td>...</td>\n",
       "    </tr>\n",
       "    <tr>\n",
       "      <th>1167</th>\n",
       "      <td>2022</td>\n",
       "      <td>Mayank Markande</td>\n",
       "      <td>2</td>\n",
       "      <td>0</td>\n",
       "      <td>0</td>\n",
       "      <td>0</td>\n",
       "      <td>0.00</td>\n",
       "      <td>0</td>\n",
       "      <td>0.00</td>\n",
       "      <td>0</td>\n",
       "      <td>...</td>\n",
       "      <td>2</td>\n",
       "      <td>42</td>\n",
       "      <td>57</td>\n",
       "      <td>1</td>\n",
       "      <td>1/26</td>\n",
       "      <td>57.00</td>\n",
       "      <td>8.14</td>\n",
       "      <td>42.0</td>\n",
       "      <td>0</td>\n",
       "      <td>0</td>\n",
       "    </tr>\n",
       "    <tr>\n",
       "      <th>1168</th>\n",
       "      <td>2021</td>\n",
       "      <td>Mayank Markande</td>\n",
       "      <td>1</td>\n",
       "      <td>0</td>\n",
       "      <td>0</td>\n",
       "      <td>0</td>\n",
       "      <td>0.00</td>\n",
       "      <td>0</td>\n",
       "      <td>0.00</td>\n",
       "      <td>0</td>\n",
       "      <td>...</td>\n",
       "      <td>1</td>\n",
       "      <td>18</td>\n",
       "      <td>26</td>\n",
       "      <td>0</td>\n",
       "      <td>0/26</td>\n",
       "      <td>0.00</td>\n",
       "      <td>8.66</td>\n",
       "      <td>0.0</td>\n",
       "      <td>0</td>\n",
       "      <td>0</td>\n",
       "    </tr>\n",
       "    <tr>\n",
       "      <th>1169</th>\n",
       "      <td>2019</td>\n",
       "      <td>Mayank Markande</td>\n",
       "      <td>3</td>\n",
       "      <td>1</td>\n",
       "      <td>6</td>\n",
       "      <td>6</td>\n",
       "      <td>6.00</td>\n",
       "      <td>5</td>\n",
       "      <td>120.00</td>\n",
       "      <td>0</td>\n",
       "      <td>...</td>\n",
       "      <td>3</td>\n",
       "      <td>36</td>\n",
       "      <td>59</td>\n",
       "      <td>1</td>\n",
       "      <td>1/23</td>\n",
       "      <td>59.00</td>\n",
       "      <td>9.83</td>\n",
       "      <td>36.0</td>\n",
       "      <td>0</td>\n",
       "      <td>0</td>\n",
       "    </tr>\n",
       "    <tr>\n",
       "      <th>1170</th>\n",
       "      <td>2018</td>\n",
       "      <td>Mayank Markande</td>\n",
       "      <td>14</td>\n",
       "      <td>4</td>\n",
       "      <td>21</td>\n",
       "      <td>7*</td>\n",
       "      <td>10.50</td>\n",
       "      <td>24</td>\n",
       "      <td>87.50</td>\n",
       "      <td>0</td>\n",
       "      <td>...</td>\n",
       "      <td>14</td>\n",
       "      <td>264</td>\n",
       "      <td>368</td>\n",
       "      <td>15</td>\n",
       "      <td>4/23</td>\n",
       "      <td>24.53</td>\n",
       "      <td>8.36</td>\n",
       "      <td>17.6</td>\n",
       "      <td>1</td>\n",
       "      <td>0</td>\n",
       "    </tr>\n",
       "    <tr>\n",
       "      <th>1171</th>\n",
       "      <td>0</td>\n",
       "      <td>Jhathavedh Subramanyan</td>\n",
       "      <td>0</td>\n",
       "      <td>0</td>\n",
       "      <td>0</td>\n",
       "      <td>0</td>\n",
       "      <td>0.00</td>\n",
       "      <td>0</td>\n",
       "      <td>0.00</td>\n",
       "      <td>0</td>\n",
       "      <td>...</td>\n",
       "      <td>0</td>\n",
       "      <td>0</td>\n",
       "      <td>0</td>\n",
       "      <td>0</td>\n",
       "      <td>0</td>\n",
       "      <td>0.00</td>\n",
       "      <td>0.00</td>\n",
       "      <td>0.0</td>\n",
       "      <td>0</td>\n",
       "      <td>0</td>\n",
       "    </tr>\n",
       "  </tbody>\n",
       "</table>\n",
       "<p>1172 rows × 25 columns</p>\n",
       "</div>"
      ],
      "text/plain": [
       "      Year             Player_Name  Matches_Batted  Not_Outs  Runs_Scored  \\\n",
       "0     2024         Ruturaj Gaikwad               2         0           61   \n",
       "1     2023         Ruturaj Gaikwad              16         1          590   \n",
       "2     2022         Ruturaj Gaikwad              14         0          368   \n",
       "3     2021         Ruturaj Gaikwad              16         2          635   \n",
       "4     2020         Ruturaj Gaikwad               6         2          204   \n",
       "...    ...                     ...             ...       ...          ...   \n",
       "1167  2022         Mayank Markande               2         0            0   \n",
       "1168  2021         Mayank Markande               1         0            0   \n",
       "1169  2019         Mayank Markande               3         1            6   \n",
       "1170  2018         Mayank Markande              14         4           21   \n",
       "1171     0  Jhathavedh Subramanyan               0         0            0   \n",
       "\n",
       "     Highest_Score  Batting_Average  Balls_Faced  Batting_Strike_Rate  \\\n",
       "0               46            30.50           51               119.61   \n",
       "1               92            42.14          400               147.50   \n",
       "2               99            26.29          291               126.46   \n",
       "3             101*            45.35          466               136.26   \n",
       "4               72            51.00          169               120.71   \n",
       "...            ...              ...          ...                  ...   \n",
       "1167             0             0.00            0                 0.00   \n",
       "1168             0             0.00            0                 0.00   \n",
       "1169             6             6.00            5               120.00   \n",
       "1170            7*            10.50           24                87.50   \n",
       "1171             0             0.00            0                 0.00   \n",
       "\n",
       "      Centuries  ...  Matches_Bowled  Balls_Bowled  Runs_Conceded  \\\n",
       "0             0  ...               2             0              0   \n",
       "1             0  ...              16             0              0   \n",
       "2             0  ...              14             0              0   \n",
       "3             1  ...              16             0              0   \n",
       "4             0  ...               6             0              0   \n",
       "...         ...  ...             ...           ...            ...   \n",
       "1167          0  ...               2            42             57   \n",
       "1168          0  ...               1            18             26   \n",
       "1169          0  ...               3            36             59   \n",
       "1170          0  ...              14           264            368   \n",
       "1171          0  ...               0             0              0   \n",
       "\n",
       "      Wickets_Taken  Best_Bowling_Match  Bowling_Average  Economy_Rate  \\\n",
       "0                 0                   0             0.00          0.00   \n",
       "1                 0                   0             0.00          0.00   \n",
       "2                 0                   0             0.00          0.00   \n",
       "3                 0                   0             0.00          0.00   \n",
       "4                 0                   0             0.00          0.00   \n",
       "...             ...                 ...              ...           ...   \n",
       "1167              1                1/26            57.00          8.14   \n",
       "1168              0                0/26             0.00          8.66   \n",
       "1169              1                1/23            59.00          9.83   \n",
       "1170             15                4/23            24.53          8.36   \n",
       "1171              0                   0             0.00          0.00   \n",
       "\n",
       "      Bowling_Strike_Rate  Four_Wicket_Hauls Five_Wicket_Hauls  \n",
       "0                     0.0                  0                 0  \n",
       "1                     0.0                  0                 0  \n",
       "2                     0.0                  0                 0  \n",
       "3                     0.0                  0                 0  \n",
       "4                     0.0                  0                 0  \n",
       "...                   ...                ...               ...  \n",
       "1167                 42.0                  0                 0  \n",
       "1168                  0.0                  0                 0  \n",
       "1169                 36.0                  0                 0  \n",
       "1170                 17.6                  1                 0  \n",
       "1171                  0.0                  0                 0  \n",
       "\n",
       "[1172 rows x 25 columns]"
      ]
     },
     "execution_count": 7,
     "metadata": {},
     "output_type": "execute_result"
    }
   ],
   "source": [
    "ipl = pd.read_csv(\"D:/ECE PYTHON 181/csv . indhu rivikavardhini.csv\")\n",
    "ipl"
   ]
  },
  {
   "cell_type": "code",
   "execution_count": 9,
   "id": "0ea5f7e4-1f9e-4cd4-ad12-969b4744042c",
   "metadata": {},
   "outputs": [
    {
     "name": "stdout",
     "output_type": "stream",
     "text": [
      "<class 'pandas.core.frame.DataFrame'>\n",
      "RangeIndex: 1172 entries, 0 to 1171\n",
      "Data columns (total 25 columns):\n",
      " #   Column               Non-Null Count  Dtype  \n",
      "---  ------               --------------  -----  \n",
      " 0   Year                 1172 non-null   int64  \n",
      " 1   Player_Name          1172 non-null   object \n",
      " 2   Matches_Batted       1172 non-null   int64  \n",
      " 3   Not_Outs             1172 non-null   int64  \n",
      " 4   Runs_Scored          1172 non-null   int64  \n",
      " 5   Highest_Score        1172 non-null   object \n",
      " 6   Batting_Average      1172 non-null   float64\n",
      " 7   Balls_Faced          1172 non-null   int64  \n",
      " 8   Batting_Strike_Rate  1172 non-null   float64\n",
      " 9   Centuries            1172 non-null   int64  \n",
      " 10  Half_Centuries       1172 non-null   int64  \n",
      " 11  Fours                1172 non-null   int64  \n",
      " 12  Sixes                1172 non-null   int64  \n",
      " 13  Catches_Taken        1172 non-null   int64  \n",
      " 14  Stumpings            1172 non-null   int64  \n",
      " 15  Matches_Bowled       1172 non-null   int64  \n",
      " 16  Balls_Bowled         1172 non-null   int64  \n",
      " 17  Runs_Conceded        1172 non-null   int64  \n",
      " 18  Wickets_Taken        1172 non-null   int64  \n",
      " 19  Best_Bowling_Match   1172 non-null   object \n",
      " 20  Bowling_Average      1172 non-null   float64\n",
      " 21  Economy_Rate         1172 non-null   float64\n",
      " 22  Bowling_Strike_Rate  1172 non-null   float64\n",
      " 23  Four_Wicket_Hauls    1172 non-null   int64  \n",
      " 24  Five_Wicket_Hauls    1172 non-null   int64  \n",
      "dtypes: float64(5), int64(17), object(3)\n",
      "memory usage: 229.0+ KB\n"
     ]
    }
   ],
   "source": [
    "ipl.info()"
   ]
  },
  {
   "cell_type": "code",
   "execution_count": 11,
   "id": "fe0b9aae-682a-41e5-bb2f-4f4661ba14d1",
   "metadata": {},
   "outputs": [
    {
     "data": {
      "text/plain": [
       "(1172, 25)"
      ]
     },
     "execution_count": 11,
     "metadata": {},
     "output_type": "execute_result"
    }
   ],
   "source": [
    "ipl.shape"
   ]
  },
  {
   "cell_type": "markdown",
   "id": "dc4e81d7-015d-4932-8bd8-63284c38bb9a",
   "metadata": {},
   "source": [
    "The file contains IPL player performances from 2008 to 2024. Create (i) \n",
    "a separate data-frame and (ii) a csv file containing the columns titled \n",
    "‘Player_Name’, ‘Runs_Scored’, ‘Catches_Taken’ and ‘Wickets_Taken’ \n",
    "to capture the overall performance through simple measure.   From this \n",
    "data frame, get the player name each with maximum runs scored, \n",
    "maximum catches taken and the maximum wickets taken.  \n"
   ]
  },
  {
   "cell_type": "code",
   "execution_count": 14,
   "id": "9ffcd918-af08-44a4-a1a3-1f5fa5acfe9c",
   "metadata": {},
   "outputs": [
    {
     "data": {
      "text/html": [
       "<div>\n",
       "<style scoped>\n",
       "    .dataframe tbody tr th:only-of-type {\n",
       "        vertical-align: middle;\n",
       "    }\n",
       "\n",
       "    .dataframe tbody tr th {\n",
       "        vertical-align: top;\n",
       "    }\n",
       "\n",
       "    .dataframe thead th {\n",
       "        text-align: right;\n",
       "    }\n",
       "</style>\n",
       "<table border=\"1\" class=\"dataframe\">\n",
       "  <thead>\n",
       "    <tr style=\"text-align: right;\">\n",
       "      <th></th>\n",
       "      <th>Year</th>\n",
       "      <th>Player_Name</th>\n",
       "      <th>Runs_Scored</th>\n",
       "      <th>Catches_Taken</th>\n",
       "      <th>Wickets_Taken</th>\n",
       "    </tr>\n",
       "  </thead>\n",
       "  <tbody>\n",
       "    <tr>\n",
       "      <th>0</th>\n",
       "      <td>2024</td>\n",
       "      <td>Ruturaj Gaikwad</td>\n",
       "      <td>61</td>\n",
       "      <td>0</td>\n",
       "      <td>0</td>\n",
       "    </tr>\n",
       "    <tr>\n",
       "      <th>1</th>\n",
       "      <td>2023</td>\n",
       "      <td>Ruturaj Gaikwad</td>\n",
       "      <td>590</td>\n",
       "      <td>17</td>\n",
       "      <td>0</td>\n",
       "    </tr>\n",
       "    <tr>\n",
       "      <th>2</th>\n",
       "      <td>2022</td>\n",
       "      <td>Ruturaj Gaikwad</td>\n",
       "      <td>368</td>\n",
       "      <td>4</td>\n",
       "      <td>0</td>\n",
       "    </tr>\n",
       "    <tr>\n",
       "      <th>3</th>\n",
       "      <td>2021</td>\n",
       "      <td>Ruturaj Gaikwad</td>\n",
       "      <td>635</td>\n",
       "      <td>6</td>\n",
       "      <td>0</td>\n",
       "    </tr>\n",
       "    <tr>\n",
       "      <th>4</th>\n",
       "      <td>2020</td>\n",
       "      <td>Ruturaj Gaikwad</td>\n",
       "      <td>204</td>\n",
       "      <td>4</td>\n",
       "      <td>0</td>\n",
       "    </tr>\n",
       "    <tr>\n",
       "      <th>...</th>\n",
       "      <td>...</td>\n",
       "      <td>...</td>\n",
       "      <td>...</td>\n",
       "      <td>...</td>\n",
       "      <td>...</td>\n",
       "    </tr>\n",
       "    <tr>\n",
       "      <th>1167</th>\n",
       "      <td>2022</td>\n",
       "      <td>Mayank Markande</td>\n",
       "      <td>0</td>\n",
       "      <td>2</td>\n",
       "      <td>1</td>\n",
       "    </tr>\n",
       "    <tr>\n",
       "      <th>1168</th>\n",
       "      <td>2021</td>\n",
       "      <td>Mayank Markande</td>\n",
       "      <td>0</td>\n",
       "      <td>0</td>\n",
       "      <td>0</td>\n",
       "    </tr>\n",
       "    <tr>\n",
       "      <th>1169</th>\n",
       "      <td>2019</td>\n",
       "      <td>Mayank Markande</td>\n",
       "      <td>6</td>\n",
       "      <td>0</td>\n",
       "      <td>1</td>\n",
       "    </tr>\n",
       "    <tr>\n",
       "      <th>1170</th>\n",
       "      <td>2018</td>\n",
       "      <td>Mayank Markande</td>\n",
       "      <td>21</td>\n",
       "      <td>3</td>\n",
       "      <td>15</td>\n",
       "    </tr>\n",
       "    <tr>\n",
       "      <th>1171</th>\n",
       "      <td>0</td>\n",
       "      <td>Jhathavedh Subramanyan</td>\n",
       "      <td>0</td>\n",
       "      <td>0</td>\n",
       "      <td>0</td>\n",
       "    </tr>\n",
       "  </tbody>\n",
       "</table>\n",
       "<p>1172 rows × 5 columns</p>\n",
       "</div>"
      ],
      "text/plain": [
       "      Year             Player_Name  Runs_Scored  Catches_Taken  Wickets_Taken\n",
       "0     2024         Ruturaj Gaikwad           61              0              0\n",
       "1     2023         Ruturaj Gaikwad          590             17              0\n",
       "2     2022         Ruturaj Gaikwad          368              4              0\n",
       "3     2021         Ruturaj Gaikwad          635              6              0\n",
       "4     2020         Ruturaj Gaikwad          204              4              0\n",
       "...    ...                     ...          ...            ...            ...\n",
       "1167  2022         Mayank Markande            0              2              1\n",
       "1168  2021         Mayank Markande            0              0              0\n",
       "1169  2019         Mayank Markande            6              0              1\n",
       "1170  2018         Mayank Markande           21              3             15\n",
       "1171     0  Jhathavedh Subramanyan            0              0              0\n",
       "\n",
       "[1172 rows x 5 columns]"
      ]
     },
     "execution_count": 14,
     "metadata": {},
     "output_type": "execute_result"
    }
   ],
   "source": [
    "import pandas as pd \n",
    "\n",
    "ipl = pd.read_csv(\"D:/ECE PYTHON 181/csv . indhu rivikavardhini.csv\")\n",
    "ipl_divide = ipl[['Year','Player_Name','Runs_Scored','Catches_Taken','Wickets_Taken']]\n",
    "ipl_divide"
   ]
  },
  {
   "cell_type": "code",
   "execution_count": 16,
   "id": "7eb5e619-68ed-4268-be50-b0af3e0d0343",
   "metadata": {},
   "outputs": [],
   "source": [
    "ipl_divide.to_csv('amaran')"
   ]
  },
  {
   "cell_type": "code",
   "execution_count": 18,
   "id": "fff9c91f-fc5d-4a06-b08f-8ee62115500b",
   "metadata": {},
   "outputs": [
    {
     "data": {
      "text/plain": [
       "Year                    2016\n",
       "Player_Name      Virat Kohli\n",
       "Runs_Scored              973\n",
       "Catches_Taken              6\n",
       "Wickets_Taken              0\n",
       "Name: 946, dtype: object"
      ]
     },
     "execution_count": 18,
     "metadata": {},
     "output_type": "execute_result"
    }
   ],
   "source": [
    "ipl_divide.loc[ipl_divide['Runs_Scored'].idxmax()]"
   ]
  },
  {
   "cell_type": "code",
   "execution_count": 20,
   "id": "9e939f0b-a7c6-47e2-b727-7dc33dfeeeda",
   "metadata": {},
   "outputs": [
    {
     "data": {
      "text/plain": [
       "Year                     2019\n",
       "Player_Name      Rishabh Pant\n",
       "Runs_Scored               488\n",
       "Catches_Taken              18\n",
       "Wickets_Taken               0\n",
       "Name: 120, dtype: object"
      ]
     },
     "execution_count": 20,
     "metadata": {},
     "output_type": "execute_result"
    }
   ],
   "source": [
    "ipl_divide.loc[ipl_divide['Catches_Taken'].idxmax()]"
   ]
  },
  {
   "cell_type": "code",
   "execution_count": 22,
   "id": "34cd78d2-84e0-443e-aa2e-878385905708",
   "metadata": {},
   "outputs": [
    {
     "data": {
      "text/plain": [
       "Year                      2021\n",
       "Player_Name      Harshal Patel\n",
       "Runs_Scored                 59\n",
       "Catches_Taken                3\n",
       "Wickets_Taken               32\n",
       "Name: 793, dtype: object"
      ]
     },
     "execution_count": 22,
     "metadata": {},
     "output_type": "execute_result"
    }
   ],
   "source": [
    "ipl_divide.loc[ipl_divide['Wickets_Taken'].idxmax()]"
   ]
  },
  {
   "cell_type": "markdown",
   "id": "7552a3f0-aa05-4a17-a339-89c5a80b1b80",
   "metadata": {},
   "source": [
    "Get the visualization of your specific player data using year wise plot.  \n",
    "Create a story on the players performances over the span of years he has \n",
    "played IPL.  \n"
   ]
  },
  {
   "cell_type": "code",
   "execution_count": 25,
   "id": "2b6e6f00-7817-410c-a5b3-05b082e9336c",
   "metadata": {},
   "outputs": [],
   "source": [
    "#Anukul Roy"
   ]
  },
  {
   "cell_type": "code",
   "execution_count": 27,
   "id": "b018d3e0-53bb-4115-bf7a-00a607d8ac10",
   "metadata": {},
   "outputs": [
    {
     "data": {
      "text/html": [
       "<div>\n",
       "<style scoped>\n",
       "    .dataframe tbody tr th:only-of-type {\n",
       "        vertical-align: middle;\n",
       "    }\n",
       "\n",
       "    .dataframe tbody tr th {\n",
       "        vertical-align: top;\n",
       "    }\n",
       "\n",
       "    .dataframe thead th {\n",
       "        text-align: right;\n",
       "    }\n",
       "</style>\n",
       "<table border=\"1\" class=\"dataframe\">\n",
       "  <thead>\n",
       "    <tr style=\"text-align: right;\">\n",
       "      <th></th>\n",
       "      <th>Year</th>\n",
       "      <th>Player_Name</th>\n",
       "      <th>Runs_Scored</th>\n",
       "      <th>Catches_Taken</th>\n",
       "      <th>Wickets_Taken</th>\n",
       "    </tr>\n",
       "  </thead>\n",
       "  <tbody>\n",
       "    <tr>\n",
       "      <th>408</th>\n",
       "      <td>2023</td>\n",
       "      <td>Anukul Roy</td>\n",
       "      <td>23</td>\n",
       "      <td>4</td>\n",
       "      <td>3</td>\n",
       "    </tr>\n",
       "    <tr>\n",
       "      <th>409</th>\n",
       "      <td>2022</td>\n",
       "      <td>Anukul Roy</td>\n",
       "      <td>0</td>\n",
       "      <td>1</td>\n",
       "      <td>1</td>\n",
       "    </tr>\n",
       "    <tr>\n",
       "      <th>410</th>\n",
       "      <td>2019</td>\n",
       "      <td>Anukul Roy</td>\n",
       "      <td>0</td>\n",
       "      <td>0</td>\n",
       "      <td>1</td>\n",
       "    </tr>\n",
       "  </tbody>\n",
       "</table>\n",
       "</div>"
      ],
      "text/plain": [
       "     Year Player_Name  Runs_Scored  Catches_Taken  Wickets_Taken\n",
       "408  2023  Anukul Roy           23              4              3\n",
       "409  2022  Anukul Roy            0              1              1\n",
       "410  2019  Anukul Roy            0              0              1"
      ]
     },
     "execution_count": 27,
     "metadata": {},
     "output_type": "execute_result"
    }
   ],
   "source": [
    "ipl_anukul = ipl_divide[408:411]\n",
    "ipl_anukul"
   ]
  },
  {
   "cell_type": "code",
   "execution_count": 29,
   "id": "637ab569-97a6-46fe-a625-2bde68b37dd3",
   "metadata": {},
   "outputs": [
    {
     "data": {
      "text/plain": [
       "Index(['Year', 'Player_Name', 'Runs_Scored', 'Catches_Taken', 'Wickets_Taken'], dtype='object')"
      ]
     },
     "execution_count": 29,
     "metadata": {},
     "output_type": "execute_result"
    }
   ],
   "source": [
    "ipl_divide.columns"
   ]
  },
  {
   "cell_type": "code",
   "execution_count": 31,
   "id": "27acd89f-eeb9-4113-9f98-9f4d575b4df6",
   "metadata": {},
   "outputs": [
    {
     "data": {
      "image/png": "[encoded data removed]",
      "text/plain": [
       "<Figure size 640x480 with 1 Axes>"
      ]
     },
     "metadata": {},
     "output_type": "display_data"
    }
   ],
   "source": [
    "from matplotlib import pyplot as plt\n",
    "from matplotlib import style \n",
    "\n",
    "style.use('ggplot')\n",
    "x = ipl_anukul[['Year']]\n",
    "y = ipl_anukul[['Runs_Scored']]\n",
    "x2 = ipl_anukul[['Year']]\n",
    "y2 = ipl_anukul[['Catches_Taken']]\n",
    "x3 = ipl_anukul[['Year']]\n",
    "y3 = ipl_anukul[['Wickets_Taken']]\n",
    "plt.plot(x,y,'r',label = 'Runs',linewidth = 8)\n",
    "plt.plot(x2,y2,'g',label = 'Catches',linewidth = 8)\n",
    "plt.plot(x3,y3,'k',label = 'Wickets',linewidth = 8)\n",
    "plt.title('performance comparison')\n",
    "plt.ylabel('numbers')\n",
    "plt.xlabel('Year')\n",
    "plt.xlim(2014,2024)\n",
    "plt.legend()\n",
    "plt.grid(color = 'c')\n",
    "plt.show()"
   ]
  },
  {
   "cell_type": "code",
   "execution_count": 32,
   "id": "eebd016b-ec83-4f70-8cd0-98c81cddc948",
   "metadata": {},
   "outputs": [
    {
     "data": {
      "text/html": [
       "<div>\n",
       "<style scoped>\n",
       "    .dataframe tbody tr th:only-of-type {\n",
       "        vertical-align: middle;\n",
       "    }\n",
       "\n",
       "    .dataframe tbody tr th {\n",
       "        vertical-align: top;\n",
       "    }\n",
       "\n",
       "    .dataframe thead th {\n",
       "        text-align: right;\n",
       "    }\n",
       "</style>\n",
       "<table border=\"1\" class=\"dataframe\">\n",
       "  <thead>\n",
       "    <tr style=\"text-align: right;\">\n",
       "      <th></th>\n",
       "      <th>Year</th>\n",
       "      <th>Player_Name</th>\n",
       "      <th>Runs_Scored</th>\n",
       "      <th>Catches_Taken</th>\n",
       "      <th>Wickets_Taken</th>\n",
       "    </tr>\n",
       "  </thead>\n",
       "  <tbody>\n",
       "    <tr>\n",
       "      <th>407</th>\n",
       "      <td>0</td>\n",
       "      <td>Angkrish Raghuvanshi</td>\n",
       "      <td>0</td>\n",
       "      <td>0</td>\n",
       "      <td>0</td>\n",
       "    </tr>\n",
       "    <tr>\n",
       "      <th>408</th>\n",
       "      <td>2023</td>\n",
       "      <td>Anukul Roy</td>\n",
       "      <td>23</td>\n",
       "      <td>4</td>\n",
       "      <td>3</td>\n",
       "    </tr>\n",
       "    <tr>\n",
       "      <th>409</th>\n",
       "      <td>2022</td>\n",
       "      <td>Anukul Roy</td>\n",
       "      <td>0</td>\n",
       "      <td>1</td>\n",
       "      <td>1</td>\n",
       "    </tr>\n",
       "    <tr>\n",
       "      <th>410</th>\n",
       "      <td>2019</td>\n",
       "      <td>Anukul Roy</td>\n",
       "      <td>0</td>\n",
       "      <td>0</td>\n",
       "      <td>1</td>\n",
       "    </tr>\n",
       "    <tr>\n",
       "      <th>411</th>\n",
       "      <td>2024</td>\n",
       "      <td>Ramandeep Singh</td>\n",
       "      <td>35</td>\n",
       "      <td>0</td>\n",
       "      <td>0</td>\n",
       "    </tr>\n",
       "    <tr>\n",
       "      <th>412</th>\n",
       "      <td>2022</td>\n",
       "      <td>Ramandeep Singh</td>\n",
       "      <td>45</td>\n",
       "      <td>1</td>\n",
       "      <td>6</td>\n",
       "    </tr>\n",
       "  </tbody>\n",
       "</table>\n",
       "</div>"
      ],
      "text/plain": [
       "     Year           Player_Name  Runs_Scored  Catches_Taken  Wickets_Taken\n",
       "407     0  Angkrish Raghuvanshi            0              0              0\n",
       "408  2023            Anukul Roy           23              4              3\n",
       "409  2022            Anukul Roy            0              1              1\n",
       "410  2019            Anukul Roy            0              0              1\n",
       "411  2024       Ramandeep Singh           35              0              0\n",
       "412  2022       Ramandeep Singh           45              1              6"
      ]
     },
     "execution_count": 32,
     "metadata": {},
     "output_type": "execute_result"
    }
   ],
   "source": [
    "ar_compare = ipl_divide[407:413]\n",
    "ar_compare"
   ]
  },
  {
   "cell_type": "code",
   "execution_count": 35,
   "id": "561cf139-edc1-470b-be48-e87a02d64b00",
   "metadata": {},
   "outputs": [
    {
     "data": {
      "image/png": "[encoded data removed]",
      "text/plain": [
       "<Figure size 640x480 with 1 Axes>"
      ]
     },
     "metadata": {},
     "output_type": "display_data"
    }
   ],
   "source": [
    "from matplotlib import pyplot as plt\n",
    "from matplotlib import style \n",
    "\n",
    "style.use('ggplot')\n",
    "player_1 = ar_compare[ar_compare['Player_Name'] == 'Angkrish Raghuvashi']\n",
    "player_2 = ar_compare[ar_compare['Player_Name'] == 'Anukul Roy']\n",
    "player_3 = ar_compare[ar_compare['Player_Name'] == 'Ramandeep Singh']\n",
    "x1 = player_1['Year']\n",
    "y1 = player_1['Catches_Taken']\n",
    "x2 = player_2['Year']\n",
    "y2 = player_2['Catches_Taken']\n",
    "x3 = player_3['Year']\n",
    "y3 = player_3['Catches_Taken']\n",
    "plt.plot(x1,y1,'b',label = 'Angkrish Raghuvanshi',linewidth=5)\n",
    "plt.plot(x2,y2,'g',label = 'Anukul Roy',linewidth=5)\n",
    "plt.plot(x3,y3,'m',label = 'Ramandeep Roy',linewidth=5)\n",
    "plt.title('comparison of catches taken by the three players')\n",
    "plt.xlabel('Year')\n",
    "plt.ylabel('Catches Taken')\n",
    "plt.xlim(2013,2020)\n",
    "plt.legend()\n",
    "plt.grid(True,color = 'k')\n",
    "plt.show()"
   ]
  },
  {
   "cell_type": "code",
   "execution_count": 36,
   "id": "ad62d7a1-a006-48b8-8f97-91af68545983",
   "metadata": {},
   "outputs": [
    {
     "data": {
      "image/png": "[encoded data removed]",
      "text/plain": [
       "<Figure size 640x480 with 1 Axes>"
      ]
     },
     "metadata": {},
     "output_type": "display_data"
    }
   ],
   "source": [
    "from matplotlib import pyplot as plt\n",
    "from matplotlib import style \n",
    "\n",
    "style.use('ggplot')\n",
    "player_1 = ar_compare[ar_compare['Player_Name'] == 'Angkrish Raghuvashi']\n",
    "player_2 = ar_compare[ar_compare['Player_Name'] == 'Anukul Roy']\n",
    "player_3 = ar_compare[ar_compare['Player_Name'] == 'Ramandeep Singh']\n",
    "x1 = player_1['Year']\n",
    "y1 = player_1['Wickets_Taken']\n",
    "x2 = player_2['Year']\n",
    "y2 = player_2['Wickets_Taken']\n",
    "x3 = player_3['Year']\n",
    "y3 = player_3['Wickets_Taken']\n",
    "plt.plot(x1,y1,'b',label = 'Angkrish Raghuvanshi',linewidth=5)\n",
    "plt.plot(x2,y2,'g',label = 'Anukul Roy',linewidth=5)\n",
    "plt.plot(x3,y3,'m',label = 'Ramandeep Roy',linewidth=5)\n",
    "plt.title('comparison of wickets taken by the three players')\n",
    "plt.xlabel('Year')\n",
    "plt.ylabel('Wickets Taken')\n",
    "plt.xlim(2013,2020)\n",
    "plt.legend()\n",
    "plt.grid(True,color = 'k')\n",
    "plt.show()"
   ]
  },
  {
   "cell_type": "code",
   "execution_count": 38,
   "id": "bc14bf7b-0786-4a8f-bdf8-d3dc9d3ef2d8",
   "metadata": {},
   "outputs": [
    {
     "data": {
      "text/plain": [
       "Index(['Year', 'Player_Name', 'Matches_Batted', 'Not_Outs', 'Runs_Scored',\n",
       "       'Highest_Score', 'Batting_Average', 'Balls_Faced',\n",
       "       'Batting_Strike_Rate', 'Centuries', 'Half_Centuries', 'Fours', 'Sixes',\n",
       "       'Catches_Taken', 'Stumpings', 'Matches_Bowled', 'Balls_Bowled',\n",
       "       'Runs_Conceded', 'Wickets_Taken', 'Best_Bowling_Match',\n",
       "       'Bowling_Average', 'Economy_Rate', 'Bowling_Strike_Rate',\n",
       "       'Four_Wicket_Hauls', 'Five_Wicket_Hauls'],\n",
       "      dtype='object')"
      ]
     },
     "execution_count": 38,
     "metadata": {},
     "output_type": "execute_result"
    }
   ],
   "source": [
    "ipl.columns"
   ]
  },
  {
   "cell_type": "markdown",
   "id": "42129b91-91b6-4df1-8502-27634021c63a",
   "metadata": {},
   "source": [
    "Create a story around year wise changes in the overall IPL \n",
    "performances. For that, get the records of year wise total run scored, \n",
    "total catches and total wickets taken, including all the player records. \n",
    "Comment on the year-wise variations in them and support your \n",
    "comments using proper visualizations. "
   ]
  },
  {
   "cell_type": "code",
   "execution_count": 50,
   "id": "5193dea7-e624-4dea-a6f0-1d3e1f0afc86",
   "metadata": {},
   "outputs": [
    {
     "data": {
      "image/png": "[encoded data removed]",
      "text/plain": [
       "<Figure size 1200x600 with 1 Axes>"
      ]
     },
     "metadata": {},
     "output_type": "display_data"
    }
   ],
   "source": [
    "from matplotlib import pyplot as plt\n",
    "total_runs_per_year = ipl_divide.groupby('Year')['Runs_Scored'].sum()\n",
    "plt.figure(figsize=(12,6))\n",
    "total_runs_per_year.plot(kind='bar',color = 'k')\n",
    "plt.title('Total runs')\n",
    "plt.xlabel('Year')\n",
    "plt.ylabel('Total runs')\n",
    "plt.grid()\n",
    "plt.tight_layout()\n",
    "plt.show()"
   ]
  },
  {
   "cell_type": "code",
   "execution_count": 43,
   "id": "d7987c28-0a7c-4733-9b06-d166e96cb911",
   "metadata": {},
   "outputs": [
    {
     "data": {
      "image/png": "[encoded data removed]",
      "text/plain": [
       "<Figure size 1200x600 with 1 Axes>"
      ]
     },
     "metadata": {},
     "output_type": "display_data"
    }
   ],
   "source": [
    "from matplotlib import pyplot as plt\n",
    "total_runs_per_year = ipl_divide.groupby('Year')['Wickets_Taken'].sum()\n",
    "plt.figure(figsize=(12,6))\n",
    "total_runs_per_year.plot(kind='bar',color = 'b')\n",
    "plt.title('wickets taken')\n",
    "plt.xlabel('Year')\n",
    "plt.ylabel('wickets taken')\n",
    "plt.grid()\n",
    "plt.tight_layout()\n",
    "plt.show()"
   ]
  },
  {
   "cell_type": "code",
   "execution_count": 52,
   "id": "74685460-a8c0-4f85-8524-526f6245363a",
   "metadata": {},
   "outputs": [
    {
     "data": {
      "image/png": "[encoded data removed]",
      "text/plain": [
       "<Figure size 1200x600 with 1 Axes>"
      ]
     },
     "metadata": {},
     "output_type": "display_data"
    }
   ],
   "source": [
    "from matplotlib import pyplot as plt\n",
    "total_runs_per_year = ipl_divide.groupby('Year')['Catches_Taken'].sum()\n",
    "plt.figure(figsize=(12,6))\n",
    "total_runs_per_year.plot(kind='bar',color = 'g')\n",
    "plt.title('catches taken ')\n",
    "plt.xlabel('Year')\n",
    "plt.ylabel('catches taken')\n",
    "plt.grid()\n",
    "plt.tight_layout()\n",
    "plt.show()"
   ]
  },
  {
   "cell_type": "code",
   "execution_count": null,
   "id": "fd924d42-7e80-46ed-a2e9-67742cd528c2",
   "metadata": {},
   "outputs": [],
   "source": []
  },
  {
   "cell_type": "code",
   "execution_count": null,
   "id": "894bc194-f9aa-4d50-88fb-6c1b7d80757d",
   "metadata": {},
   "outputs": [],
   "source": []
  },
  {
   "cell_type": "code",
   "execution_count": null,
   "id": "6dec00bd-9b10-4137-a917-4e3e64df4809",
   "metadata": {},
   "outputs": [],
   "source": []
  }
 ],
 "metadata": {
  "kernelspec": {
   "display_name": "Python 3 (ipykernel)",
   "language": "python",
   "name": "python3"
  },
  "language_info": {
   "codemirror_mode": {
    "name": "ipython",
    "version": 3
   },
   "file_extension": ".py",
   "mimetype": "text/x-python",
   "name": "python",
   "nbconvert_exporter": "python",
   "pygments_lexer": "ipython3",
   "version": "3.12.4"
  }
 },
 "nbformat": 4,
 "nbformat_minor": 5
}
